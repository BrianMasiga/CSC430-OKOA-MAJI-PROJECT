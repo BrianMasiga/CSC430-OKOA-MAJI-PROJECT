{
 "cells": [
  {
   "cell_type": "code",
   "execution_count": null,
   "metadata": {},
   "outputs": [],
   "source": [
    "#Introduce the user to the Application\n",
    "print(\"Welcome to the Okoa Maji Application\")\n",
    "#Initialize the input of the user\n",
    "def get_meter_reading():\n",
    "        meter_reading_target = input(\"Please input your monthly target for the month of\")\n",
    "        meter_reading_previous = input(\"Please input your previous meter reading\")\n",
    "        meter_reading = input(\"Please input your current meter reading\")\n",
    "        reading_time = input(\"Please input the reading time\")\n",
    "        \n",
    "if meter_reading > meter_reading_target:\n",
    "        print(f\"Your meter reading as at {reading_time} is {meter_reading} and the reading is above the target\")\n",
    "else:\n",
    "        print(\"Congratulations your meter reading is Within the range\")\n",
    "get_meter_reading()\n",
    "\n",
    "def reccomendation_engine():\n",
    "    if meter_reading > meter_reading_target:\n",
    "        print(\"Please reduce your usage: Here are some nice ways you can hep save on water use around your home\\n1 Fix leaks\\n hey there\")\n",
    "        print(\"2 Install a water meter\")\n",
    "        print(\"3 Install a water-efficient showerhead\")\n",
    "        print(\"4 Install a water-efficient faucet aerator\")\n",
    "        print(\"5 Install a water-efficient toilet\")\n",
    "        print(\"6 Install a water-efficient clothes washer\")\n",
    "        print(\"7 Install a water-efficient dishwasher\")\n",
    "        print(\"8 Install a water-efficient irrigation controller\")\n",
    "        print(\"9 Install a water-efficient irrigation sprinkler\")\n",
    "        print(\"10 Install a water-efficient irrigation drip system\")\n",
    "    else:\n",
    "        print(\"Congratulations your meter reading is Within the range\")\n",
    "\n",
    "reccomendation_engine()"
   ]
  }
 ],
 "metadata": {
  "kernelspec": {
   "display_name": "Python 3",
   "language": "python",
   "name": "python3"
  },
  "language_info": {
   "codemirror_mode": {
    "name": "ipython",
    "version": 3
   },
   "file_extension": ".py",
   "mimetype": "text/x-python",
   "name": "python",
   "nbconvert_exporter": "python",
   "pygments_lexer": "ipython3",
   "version": "3.11.2"
  },
  "orig_nbformat": 4
 },
 "nbformat": 4,
 "nbformat_minor": 2
}
